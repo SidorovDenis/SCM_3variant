{
 "cells": [
  {
   "cell_type": "markdown",
   "metadata": {},
   "source": [
    "# Системы компьютерной математики.\n",
    "\n",
    "## Сидоров Денис 382008-2\n"
   ]
  },
  {
   "cell_type": "markdown",
   "metadata": {},
   "source": [
    "# Вариант 3\n",
    "\n",
    "Используя интеграл\n",
    "$$-\\frac{4}{9} = \\int_0^1 \\sqrt{x}\\ln x dx$$\n",
    "найдем приближение к $-4/9$.\n",
    "\n",
    "Нарисуем график данного интеграла"
   ]
  },
  {
   "cell_type": "code",
   "execution_count": 1,
   "metadata": {},
   "outputs": [
    {
     "name": "stderr",
     "output_type": "stream",
     "text": [
      "Matplotlib is building the font cache; this may take a moment.\n"
     ]
    }
   ],
   "source": [
    "import numpy as np\n",
    "import matplotlib.pyplot as plt\n",
    "%matplotlib inline\n",
    "from scipy import integrate"
   ]
  },
  {
   "cell_type": "code",
   "execution_count": 2,
   "metadata": {},
   "outputs": [
    {
     "data": {
      "image/png": "[encoded data removed]",
      "text/plain": [
       "<Figure size 432x288 with 1 Axes>"
      ]
     },
     "metadata": {
      "needs_background": "light"
     },
     "output_type": "display_data"
    }
   ],
   "source": [
    "x = np.linspace(1e-9, 1, 500)\n",
    "y = np.sqrt(x)*np.log(x)\n",
    "plt.plot(x, y)\n",
    "plt.grid()\n",
    "pass"
   ]
  },
  {
   "cell_type": "markdown",
   "metadata": {},
   "source": [
    "#### 1.Посчитаем интеграл с помощью формулы прямоугольника с $2$, $4$, $8$, $16$, $32$, $64$ и $128$ узлами"
   ]
  },
  {
   "cell_type": "code",
   "execution_count": 3,
   "metadata": {},
   "outputs": [
    {
     "name": "stdout",
     "output_type": "stream",
     "text": [
      "Кол-во узлов:  2\n",
      "Погрешность:  0.06007305895425487\n",
      "Кол-во узлов:  4\n",
      "Погрешность:  0.030671045507683264\n",
      "Кол-во узлов:  8\n",
      "Погрешность:  0.014433042884015868\n",
      "Кол-во узлов:  16\n",
      "Погрешность:  0.006434871410860604\n",
      "Кол-во узлов:  32\n",
      "Погрешность:  0.0027617328162109905\n",
      "Кол-во узлов:  64\n",
      "Погрешность:  0.0011524089485430572\n",
      "Кол-во узлов:  128\n",
      "Погрешность:  0.0004706413831074563\n"
     ]
    },
    {
     "data": {
      "text/plain": [
       "-0.4446536183924922"
      ]
     },
     "execution_count": 3,
     "metadata": {},
     "output_type": "execute_result"
    },
    {
     "data": {
      "image/png": "[encoded data removed]",
      "text/plain": [
       "<Figure size 432x288 with 1 Axes>"
      ]
     },
     "metadata": {
      "needs_background": "light"
     },
     "output_type": "display_data"
    }
   ],
   "source": [
    "a = 1e-12\n",
    "b = 1\n",
    "res = -(4/9)\n",
    "for n in [2, 4, 8, 16, 32, 64, 128]:\n",
    "    h = (b - a)/n\n",
    "    x = np.arange(a + h/2, b, h)\n",
    "    y =np.sqrt(x)*np.log(x)\n",
    "    I_rect =h*sum(y)\n",
    "    plt.plot(n,abs(res-I_rect)/abs(res),'o',color='tab:green')\n",
    "    print('Кол-во узлов: ',n)\n",
    "    print('Погрешность: ',abs(res-I_rect)/abs(res))\n",
    "Igreat_rect=I_rect\n",
    "Rectgreat_err= abs(res-I_rect)/abs(res)\n",
    "plt.yscale('log')\n",
    "plt.xscale('log')\n",
    "pass\n",
    "Igreat_rect"
   ]
  },
  {
   "cell_type": "markdown",
   "metadata": {},
   "source": [
    "#### 2.Посчитаем интеграл с помощью формулы трапеции с $2$, $4$, $8$, $16$, $32$, $64$ и $128$ узлами"
   ]
  },
  {
   "cell_type": "code",
   "execution_count": 9,
   "metadata": {},
   "outputs": [
    {
     "name": "stdout",
     "output_type": "stream",
     "text": [
      "Кол-во узлов  2  Погрешность  0.4485892518506357\n",
      "Кол-во узлов  4  Погрешность  0.19425809644819036\n",
      "Кол-во узлов  8  Погрешность  0.08179352547025348\n",
      "Кол-во узлов  16  Погрешность  0.03368024129311881\n",
      "Кол-во узлов  32  Погрешность  0.013622684941129101\n",
      "Кол-во узлов  64  Погрешность  0.005430476062459055\n",
      "Кол-во узлов  128  Погрешность  0.0021390335569583113\n"
     ]
    },
    {
     "data": {
      "text/plain": [
       "-0.44349376286357406"
      ]
     },
     "execution_count": 9,
     "metadata": {},
     "output_type": "execute_result"
    },
    {
     "data": {
      "image/png": "[encoded data removed]",
      "text/plain": [
       "<Figure size 432x288 with 1 Axes>"
      ]
     },
     "metadata": {
      "needs_background": "light"
     },
     "output_type": "display_data"
    }
   ],
   "source": [
    "for n in [2,4,8,16,32,64,128]:\n",
    "    x = np.linspace(a, b, n + 1)\n",
    "    y = np.sqrt(x)*np.log(x)\n",
    "    I_trapz = integrate.trapz(y, x)\n",
    "    plt.plot(n,(res-I_trapz)/(res),'o',color='tab:blue')\n",
    "    print('Кол-во узлов ',n,' Погрешность ',(res-I_trapz)/(res))\n",
    "plt.yscale('log')\n",
    "plt.xscale('log')\n",
    "pass\n",
    "Trapzgreat_err= (res-I_trapz)/(res)\n",
    "Igreat_trapz=I_trapz\n",
    "Igreat_trapz"
   ]
  },
  {
   "cell_type": "code",
   "execution_count": 10,
   "metadata": {},
   "outputs": [
    {
     "name": "stdout",
     "output_type": "stream",
     "text": [
      "Кол-во узлов  2  Погрешность  0.26479603076709946\n",
      "Кол-во узлов  4  Погрешность  0.1094810446473754\n",
      "Кол-во узлов  8  Погрешность  0.04430533514427469\n",
      "Кол-во узлов  16  Погрешность  0.01764247990074054\n",
      "Кол-во узлов  32  Погрешность  0.006936832823799324\n",
      "Кол-во узлов  64  Погрешность  0.0026997397695691233\n",
      "Кол-во узлов  128  Погрешность  0.0010418860551246467\n"
     ]
    },
    {
     "data": {
      "text/plain": [
       "-0.44398138397550013"
      ]
     },
     "execution_count": 10,
     "metadata": {},
     "output_type": "execute_result"
    },
    {
     "data": {
      "image/png": "[encoded data removed]",
      "text/plain": [
       "<Figure size 432x288 with 1 Axes>"
      ]
     },
     "metadata": {
      "needs_background": "light"
     },
     "output_type": "display_data"
    }
   ],
   "source": [
    "for n in [2,4,8,16,32,64,128]:\n",
    "    h = (b - a)/n\n",
    "    x = np.linspace(a, b, n + 1)\n",
    "    y = np.sqrt(x)*np.log(x)\n",
    "    I_simps=integrate.simps(y)*h\n",
    "    plt.plot(n,(res-I_simps)/(res),'o',color='tab:red')\n",
    "    print('Кол-во узлов ',n,' Погрешность ', abs((res-I_simps)/(res)))\n",
    "plt.yscale('log')\n",
    "plt.xscale('log')\n",
    "pass\n",
    "Simpsgreat_err= abs((res-I_simps)/(res))\n",
    "Igreat_simps=I_simps\n",
    "Igreat_simps"
   ]
  },
  {
   "cell_type": "code",
   "execution_count": 11,
   "metadata": {},
   "outputs": [
    {
     "name": "stdout",
     "output_type": "stream",
     "text": [
      "Rectangaular method  -0.4446536183924922   0.0004706413831074563\n",
      "Trapezoidal method  -0.44349376286357406   0.0021390335569583113\n",
      "Simpson rule  -0.44398138397550013   0.0010418860551246467\n",
      "Result  -0.4444444444444444\n"
     ]
    }
   ],
   "source": [
    "print('Rectangaular method ', Igreat_rect,' ',Rectgreat_err)\n",
    "print('Trapezoidal method ', Igreat_trapz,' ',Trapzgreat_err)\n",
    "print('Simpson rule ', Igreat_simps,' ',Simpsgreat_err)\n",
    "print('Result ',res)"
   ]
  },
  {
   "cell_type": "markdown",
   "metadata": {},
   "source": [
    "## Промежуточный итог\n",
    "\n",
    "1. Самой точной оказалась формула прямоугольников, так как было небольшое число элементарных отрезков.\n"
   ]
  },
  {
   "cell_type": "markdown",
   "metadata": {},
   "source": [
    "# Вывод\n",
    "\n",
    "В результате проведенной работы было выяснено, что погрешность изменяется по гармоническому закону \n",
    "\n",
    "$$f(x)=\\frac{1}{x^n}$$\n",
    "\n",
    "С увеличением числа элементарных элементов погрешность уменьшается.\n"
   ]
  },
  {
   "cell_type": "code",
   "execution_count": null,
   "metadata": {},
   "outputs": [],
   "source": []
  }
 ],
 "metadata": {
  "kernelspec": {
   "display_name": "Python 3",
   "language": "python",
   "name": "python3"
  },
  "language_info": {
   "codemirror_mode": {
    "name": "ipython",
    "version": 3
   },
   "file_extension": ".py",
   "mimetype": "text/x-python",
   "name": "python",
   "nbconvert_exporter": "python",
   "pygments_lexer": "ipython3",
   "version": "3.9.0"
  }
 },
 "nbformat": 4,
 "nbformat_minor": 4
}
